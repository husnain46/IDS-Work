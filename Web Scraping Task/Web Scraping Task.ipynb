{
  "nbformat": 4,
  "nbformat_minor": 0,
  "metadata": {
    "colab": {
      "provenance": []
    },
    "kernelspec": {
      "name": "python3",
      "display_name": "Python 3"
    },
    "language_info": {
      "name": "python"
    }
  },
  "cells": [
    {
      "cell_type": "code",
      "execution_count": 1,
      "metadata": {
        "colab": {
          "base_uri": "https://localhost:8080/"
        },
        "id": "dv7A5jrwIGWV",
        "outputId": "bb8c3030-18d8-4826-f9ab-6a4af17c9d07"
      },
      "outputs": [
        {
          "output_type": "stream",
          "name": "stdout",
          "text": [
            "Looking in indexes: https://pypi.org/simple, https://us-python.pkg.dev/colab-wheels/public/simple/\n",
            "Collecting html-table-parser-python3\n",
            "  Downloading html_table_parser_python3-0.2.0-py3-none-any.whl (15 kB)\n",
            "Installing collected packages: html-table-parser-python3\n",
            "Successfully installed html-table-parser-python3-0.2.0\n"
          ]
        }
      ],
      "source": [
        "pip install html-table-parser-python3"
      ]
    },
    {
      "cell_type": "code",
      "source": [
        "import urllib.request\n",
        " \n",
        "from pprint import pprint"
      ],
      "metadata": {
        "id": "nE7kbM2fMYZ6"
      },
      "execution_count": 3,
      "outputs": []
    },
    {
      "cell_type": "code",
      "source": [
        "from html_table_parser.parser import HTMLTableParser"
      ],
      "metadata": {
        "id": "2YcsFgvzMhR6"
      },
      "execution_count": 4,
      "outputs": []
    },
    {
      "cell_type": "code",
      "source": [
        "def url_get_contents(url):\n",
        " \n",
        "    req = urllib.request.Request(url=url)\n",
        "    f = urllib.request.urlopen(req)\n",
        " \n",
        "    return f.read()"
      ],
      "metadata": {
        "id": "MFd75L3wMkLx"
      },
      "execution_count": 5,
      "outputs": []
    },
    {
      "cell_type": "code",
      "source": [
        "xhtml = url_get_contents('https://priceoye.pk/mobiles/oppo/oppo-f21-pro').decode('utf-8')\n",
        " \n",
        "p = HTMLTableParser()\n",
        " \n",
        "p.feed(xhtml)"
      ],
      "metadata": {
        "id": "VQy6y9BWMvoK"
      },
      "execution_count": 6,
      "outputs": []
    },
    {
      "cell_type": "code",
      "source": [
        "pprint(p.tables)"
      ],
      "metadata": {
        "colab": {
          "base_uri": "https://localhost:8080/"
        },
        "id": "23QKJmz3M2S1",
        "outputId": "0987fa65-9124-459b-c2f3-7d433ad3f333"
      },
      "execution_count": 7,
      "outputs": [
        {
          "output_type": "stream",
          "name": "stdout",
          "text": [
            "[[['General Features'],\n",
            "  ['Release Date', '2022-04-11'],\n",
            "  ['SIM Support', 'Dual Sim, Dual Standby (Nano-SIM)'],\n",
            "  ['Phone Dimensions', '159.9 x 73.2 x 7.5 mm'],\n",
            "  ['Phone Weight', '175 g'],\n",
            "  ['Operating System', 'Android 11, ColorOS 12.1']],\n",
            " [['Display'],\n",
            "  ['Screen Size', '6.43 Inches'],\n",
            "  ['Screen Resolution', '1080 x 2400 Pixels'],\n",
            "  ['Screen Type', 'AMOLED Capacitive Touchscreen, Multitouch'],\n",
            "  ['Screen Protection', 'Corning Gorilla Glass 5']],\n",
            " [['Memory'],\n",
            "  ['Internal Memory', '128 GB'],\n",
            "  ['RAM', '8 GB'],\n",
            "  ['Card Slot', 'Yes']],\n",
            " [['Performance'],\n",
            "  ['Processor', 'Qualcomm SM6225 Snapdragon 680 4G (6 nm)'],\n",
            "  ['GPU', 'Adreno 610']],\n",
            " [['Battery'], ['Type', '(Li-Po Non removable), 4500 mAh']],\n",
            " [['Camera'],\n",
            "  ['Front Camera', '32 MP'],\n",
            "  ['Front Flash Light', 'Yes'],\n",
            "  ['Front Video Recording', '1080p@30fps, gyro-EIS'],\n",
            "  ['Back Flash Light', 'Yes'],\n",
            "  ['Back Camera', '64 MP + 2 MP + 2 MP'],\n",
            "  ['Back Video Recording', '1080p@30fps, gyro-EIS']],\n",
            " [['Connectivity'],\n",
            "  ['Bluetooth', 'Yes'],\n",
            "  ['3G', 'Yes'],\n",
            "  ['4G/LTE', 'Yes'],\n",
            "  ['5G', 'No'],\n",
            "  ['Radio', 'Yes'],\n",
            "  ['WiFi', 'Yes'],\n",
            "  ['NFC', 'No']]]\n"
          ]
        }
      ]
    }
  ]
}